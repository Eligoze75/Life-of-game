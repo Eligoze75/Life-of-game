{
 "cells": [
  {
   "cell_type": "markdown",
   "metadata": {},
   "source": [
    "### Libraries"
   ]
  },
  {
   "cell_type": "code",
   "execution_count": null,
   "metadata": {
    "ExecuteTime": {
     "end_time": "2020-07-19T01:06:15.440456Z",
     "start_time": "2020-07-19T01:06:15.256009Z"
    }
   },
   "outputs": [],
   "source": [
    "import pygame\n",
    "import numpy as np\n",
    "import time"
   ]
  },
  {
   "cell_type": "code",
   "execution_count": null,
   "metadata": {
    "ExecuteTime": {
     "end_time": "2020-07-19T01:06:16.191465Z",
     "start_time": "2020-07-19T01:06:15.442818Z"
    }
   },
   "outputs": [],
   "source": [
    "pygame.init()\n",
    "\n",
    "#Size\n",
    "width, height = 500,500\n",
    "\n",
    "#Create board's window\n",
    "screen = pygame.display.set_mode((width,height))\n",
    "#Set color to black\n",
    "bg = 25,25,25\n",
    "screen.fill(bg)"
   ]
  },
  {
   "cell_type": "code",
   "execution_count": null,
   "metadata": {
    "ExecuteTime": {
     "end_time": "2020-07-19T01:11:46.460581Z",
     "start_time": "2020-07-19T01:06:16.193897Z"
    }
   },
   "outputs": [],
   "source": [
    "#Number of cells\n",
    "nxC,nyC = 25,25\n",
    "\n",
    "#Size of each cell:\n",
    "dimCW = width/nxC\n",
    "dimCH = height/nyC\n",
    "\n",
    "#Cell status, life = 1, dead = 0\n",
    "gameState = np.zeros((nxC,nyC))\n",
    "\n",
    "#First colony\n",
    "gameState[5,3] = 1\n",
    "gameState[5,4] = 1\n",
    "gameState[5,5] = 1\n",
    "gameState[6,5] = 1\n",
    "gameState[5,6] = 1\n",
    "\n",
    "#Second colony\n",
    "gameState[21,21] = 1\n",
    "gameState[22,22] = 1\n",
    "gameState[23,23] = 1\n",
    "gameState[21,24] = 1\n",
    "gameState[20,23] = 1\n",
    "gameState[20,23] = 1\n",
    "gameState[17,20] = 1\n",
    "\n",
    "#Third colony\n",
    "gameState[10,11] = 1\n",
    "gameState[11,11] = 1\n",
    "gameState[9,13] = 1\n",
    "gameState[11,9] = 1\n",
    "gameState[9,10] = 1\n",
    "gameState[9,9] = 1\n",
    "gameState[11,12] = 1\n",
    "\n",
    "#Forth colony\n",
    "gameState[17,17] = 1\n",
    "gameState[17,16] = 1\n",
    "gameState[15,15] = 1\n",
    "gameState[15,16] = 1\n",
    "gameState[16,16] = 1\n",
    "gameState[16,17] = 1\n",
    "gameState[15,17] = 1\n",
    "\n",
    "\n",
    "#Loop \n",
    "running = True\n",
    "\n",
    "while running:\n",
    "    \n",
    "    NewGameState = np.copy(gameState)\n",
    "    screen.fill(bg)\n",
    "    time.sleep(1)\n",
    "    \n",
    "    \n",
    "    for event in pygame.event.get():\n",
    "        if event.type == pygame.QUIT:\n",
    "            running = False\n",
    "    \n",
    "        mouseClick = pygame.mouse.get_pressed()\n",
    "        if sum(mouseClick) > 0:\n",
    "            posX, posY = pygame.mouse.get_pos()\n",
    "            x, y = int(np.floor(posX/dimCW)), int(np.floor(posY/dimCH))\n",
    "            NewGameState[x,y] = not mouseClick[2]\n",
    "\n",
    "    for y in range(0,nxC):\n",
    "        for x in range(0,nyC):\n",
    "            \n",
    "            #Calculate the number of neighbors\n",
    "            n_neigh = gameState[(x-1) % nxC,(y-1) % nyC] + \\\n",
    "                        gameState[(x) % nxC,(y-1) % nyC] + \\\n",
    "                        gameState[(x+1) % nxC,(y-1) % nyC] + \\\n",
    "                        gameState[(x-1) % nxC,(y) % nyC] + \\\n",
    "                        gameState[(x-1) % nxC,(y+1) % nyC] + \\\n",
    "                        gameState[(x) % nxC,(y+1) % nyC] + \\\n",
    "                        gameState[(x) % nxC,(y) % nyC] + \\\n",
    "                        gameState[(x+1) % nxC,(y+1) % nyC]\n",
    "                        \n",
    "            #Rule 1: Dead cell with 3 live neighbors, gets to live\n",
    "            if gameState[x,y] == 0 and n_neigh == 3:\n",
    "                NewGameState[x,y] = 1\n",
    "            \n",
    "            #Rule 2: Live cell with less than 2 or more than 3 live neighbors dies\n",
    "            elif gameState[x,y] == 1 and (n_neigh < 2 or n_neigh > 3):\n",
    "                NewGameState[x,y] = 0\n",
    "            \n",
    "            #Create draw poligon\n",
    "            poly = [((x)*dimCW,y*dimCH),\n",
    "                   ((x+1)*dimCW,y*dimCH),\n",
    "                   ((x+1)*dimCW,(y+1)*dimCH),\n",
    "                   ((x)*dimCW,(y+1)*dimCH)]\n",
    "            \n",
    "            #Draw x,y square\n",
    "            if NewGameState[x,y] == 0:\n",
    "                pygame.draw.polygon(screen,(128,128,128),poly,1)\n",
    "            else:\n",
    "                pygame.draw.polygon(screen,(255,255,255),poly,0)\n",
    "                \n",
    "    #Update game\n",
    "    gameState = np.copy(NewGameState)\n",
    "    #Update window    \n",
    "    pygame.display.flip()\n",
    "    \n",
    "pygame.quit()"
   ]
  },
  {
   "cell_type": "code",
   "execution_count": null,
   "metadata": {},
   "outputs": [],
   "source": []
  }
 ],
 "metadata": {
  "kernelspec": {
   "display_name": "Python 3",
   "language": "python",
   "name": "python3"
  },
  "language_info": {
   "codemirror_mode": {
    "name": "ipython",
    "version": 3
   },
   "file_extension": ".py",
   "mimetype": "text/x-python",
   "name": "python",
   "nbconvert_exporter": "python",
   "pygments_lexer": "ipython3",
   "version": "3.7.6"
  }
 },
 "nbformat": 4,
 "nbformat_minor": 4
}
